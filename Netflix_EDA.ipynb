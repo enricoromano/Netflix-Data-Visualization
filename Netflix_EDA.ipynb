{
 "cells": [
  {
   "cell_type": "markdown",
   "metadata": {},
   "source": [
    "# Netflix Movies and TV-shows Analysis"
   ]
  },
  {
   "cell_type": "code",
   "execution_count": 1,
   "metadata": {},
   "outputs": [],
   "source": [
    "import pandas as pd\n",
    "import numpy as np\n",
    "import seaborn as sns\n",
    "import matplotlib.pyplot as plt\n",
    "import ast\n",
    "import random\n",
    "%matplotlib inline"
   ]
  },
  {
   "cell_type": "markdown",
   "metadata": {},
   "source": [
    "## Knowing the dataset\n",
    "I imported the datasets. Before proceeding with the analysis, I did a little bit of data manipulation in order to understand better what I am dealing with."
   ]
  },
  {
   "cell_type": "code",
   "execution_count": 2,
   "metadata": {},
   "outputs": [],
   "source": [
    "titles=pd.read_csv('titles.csv')\n",
    "cast=pd.read_csv('credits.csv')"
   ]
  },
  {
   "cell_type": "code",
   "execution_count": 3,
   "metadata": {},
   "outputs": [
    {
     "data": {
      "text/html": [
       "<div>\n",
       "<style scoped>\n",
       "    .dataframe tbody tr th:only-of-type {\n",
       "        vertical-align: middle;\n",
       "    }\n",
       "\n",
       "    .dataframe tbody tr th {\n",
       "        vertical-align: top;\n",
       "    }\n",
       "\n",
       "    .dataframe thead th {\n",
       "        text-align: right;\n",
       "    }\n",
       "</style>\n",
       "<table border=\"1\" class=\"dataframe\">\n",
       "  <thead>\n",
       "    <tr style=\"text-align: right;\">\n",
       "      <th></th>\n",
       "      <th>id</th>\n",
       "      <th>title</th>\n",
       "      <th>type</th>\n",
       "      <th>description</th>\n",
       "      <th>release_year</th>\n",
       "      <th>age_certification</th>\n",
       "      <th>runtime</th>\n",
       "      <th>genres</th>\n",
       "      <th>production_countries</th>\n",
       "      <th>seasons</th>\n",
       "      <th>imdb_id</th>\n",
       "      <th>imdb_score</th>\n",
       "      <th>imdb_votes</th>\n",
       "      <th>tmdb_popularity</th>\n",
       "      <th>tmdb_score</th>\n",
       "    </tr>\n",
       "  </thead>\n",
       "  <tbody>\n",
       "    <tr>\n",
       "      <th>0</th>\n",
       "      <td>ts300399</td>\n",
       "      <td>Five Came Back: The Reference Films</td>\n",
       "      <td>SHOW</td>\n",
       "      <td>This collection includes 12 World War II-era p...</td>\n",
       "      <td>1945</td>\n",
       "      <td>TV-MA</td>\n",
       "      <td>48</td>\n",
       "      <td>['documentation']</td>\n",
       "      <td>['US']</td>\n",
       "      <td>1.0</td>\n",
       "      <td>NaN</td>\n",
       "      <td>NaN</td>\n",
       "      <td>NaN</td>\n",
       "      <td>0.600</td>\n",
       "      <td>NaN</td>\n",
       "    </tr>\n",
       "    <tr>\n",
       "      <th>1</th>\n",
       "      <td>tm84618</td>\n",
       "      <td>Taxi Driver</td>\n",
       "      <td>MOVIE</td>\n",
       "      <td>A mentally unstable Vietnam War veteran works ...</td>\n",
       "      <td>1976</td>\n",
       "      <td>R</td>\n",
       "      <td>113</td>\n",
       "      <td>['crime', 'drama']</td>\n",
       "      <td>['US']</td>\n",
       "      <td>NaN</td>\n",
       "      <td>tt0075314</td>\n",
       "      <td>8.3</td>\n",
       "      <td>795222.0</td>\n",
       "      <td>27.612</td>\n",
       "      <td>8.2</td>\n",
       "    </tr>\n",
       "    <tr>\n",
       "      <th>2</th>\n",
       "      <td>tm127384</td>\n",
       "      <td>Monty Python and the Holy Grail</td>\n",
       "      <td>MOVIE</td>\n",
       "      <td>King Arthur, accompanied by his squire, recrui...</td>\n",
       "      <td>1975</td>\n",
       "      <td>PG</td>\n",
       "      <td>91</td>\n",
       "      <td>['comedy', 'fantasy']</td>\n",
       "      <td>['GB']</td>\n",
       "      <td>NaN</td>\n",
       "      <td>tt0071853</td>\n",
       "      <td>8.2</td>\n",
       "      <td>530877.0</td>\n",
       "      <td>18.216</td>\n",
       "      <td>7.8</td>\n",
       "    </tr>\n",
       "    <tr>\n",
       "      <th>3</th>\n",
       "      <td>tm70993</td>\n",
       "      <td>Life of Brian</td>\n",
       "      <td>MOVIE</td>\n",
       "      <td>Brian Cohen is an average young Jewish man, bu...</td>\n",
       "      <td>1979</td>\n",
       "      <td>R</td>\n",
       "      <td>94</td>\n",
       "      <td>['comedy']</td>\n",
       "      <td>['GB']</td>\n",
       "      <td>NaN</td>\n",
       "      <td>tt0079470</td>\n",
       "      <td>8.0</td>\n",
       "      <td>392419.0</td>\n",
       "      <td>17.505</td>\n",
       "      <td>7.8</td>\n",
       "    </tr>\n",
       "    <tr>\n",
       "      <th>4</th>\n",
       "      <td>tm190788</td>\n",
       "      <td>The Exorcist</td>\n",
       "      <td>MOVIE</td>\n",
       "      <td>12-year-old Regan MacNeil begins to adapt an e...</td>\n",
       "      <td>1973</td>\n",
       "      <td>R</td>\n",
       "      <td>133</td>\n",
       "      <td>['horror']</td>\n",
       "      <td>['US']</td>\n",
       "      <td>NaN</td>\n",
       "      <td>tt0070047</td>\n",
       "      <td>8.1</td>\n",
       "      <td>391942.0</td>\n",
       "      <td>95.337</td>\n",
       "      <td>7.7</td>\n",
       "    </tr>\n",
       "  </tbody>\n",
       "</table>\n",
       "</div>"
      ],
      "text/plain": [
       "         id                                title   type  \\\n",
       "0  ts300399  Five Came Back: The Reference Films   SHOW   \n",
       "1   tm84618                          Taxi Driver  MOVIE   \n",
       "2  tm127384      Monty Python and the Holy Grail  MOVIE   \n",
       "3   tm70993                        Life of Brian  MOVIE   \n",
       "4  tm190788                         The Exorcist  MOVIE   \n",
       "\n",
       "                                         description  release_year  \\\n",
       "0  This collection includes 12 World War II-era p...          1945   \n",
       "1  A mentally unstable Vietnam War veteran works ...          1976   \n",
       "2  King Arthur, accompanied by his squire, recrui...          1975   \n",
       "3  Brian Cohen is an average young Jewish man, bu...          1979   \n",
       "4  12-year-old Regan MacNeil begins to adapt an e...          1973   \n",
       "\n",
       "  age_certification  runtime                 genres production_countries  \\\n",
       "0             TV-MA       48      ['documentation']               ['US']   \n",
       "1                 R      113     ['crime', 'drama']               ['US']   \n",
       "2                PG       91  ['comedy', 'fantasy']               ['GB']   \n",
       "3                 R       94             ['comedy']               ['GB']   \n",
       "4                 R      133             ['horror']               ['US']   \n",
       "\n",
       "   seasons    imdb_id  imdb_score  imdb_votes  tmdb_popularity  tmdb_score  \n",
       "0      1.0        NaN         NaN         NaN            0.600         NaN  \n",
       "1      NaN  tt0075314         8.3    795222.0           27.612         8.2  \n",
       "2      NaN  tt0071853         8.2    530877.0           18.216         7.8  \n",
       "3      NaN  tt0079470         8.0    392419.0           17.505         7.8  \n",
       "4      NaN  tt0070047         8.1    391942.0           95.337         7.7  "
      ]
     },
     "execution_count": 3,
     "metadata": {},
     "output_type": "execute_result"
    }
   ],
   "source": [
    "titles.head()"
   ]
  },
  {
   "cell_type": "markdown",
   "metadata": {},
   "source": [
    "Because some observations are in an array form, it is important to fix them. So, I defined a function that helped me to avoid this problem."
   ]
  },
  {
   "cell_type": "code",
   "execution_count": 4,
   "metadata": {},
   "outputs": [],
   "source": [
    "def repair_array_bound_categories(arr):\n",
    "    arr = ast.literal_eval(arr)\n",
    "    \n",
    "    if len(arr) == 0:\n",
    "        return np.nan\n",
    "    \n",
    "    elif len(arr) == 1:\n",
    "        return arr[0]\n",
    "    \n",
    "    else:\n",
    "        return random.choice(arr)\n",
    "        # return \":\".join(arr)"
   ]
  },
  {
   "cell_type": "code",
   "execution_count": 5,
   "metadata": {},
   "outputs": [],
   "source": [
    "titles[\"production_countries\"] = titles[\"production_countries\"].apply(repair_array_bound_categories)\n",
    "titles[\"genres\"] = titles[\"genres\"].apply(repair_array_bound_categories)"
   ]
  },
  {
   "cell_type": "code",
   "execution_count": 6,
   "metadata": {},
   "outputs": [
    {
     "data": {
      "text/plain": [
       "id                         0\n",
       "title                      1\n",
       "type                       0\n",
       "description               18\n",
       "release_year               0\n",
       "age_certification       2610\n",
       "runtime                    0\n",
       "genres                    68\n",
       "production_countries     232\n",
       "seasons                 3759\n",
       "imdb_id                  444\n",
       "imdb_score               523\n",
       "imdb_votes               539\n",
       "tmdb_popularity           94\n",
       "tmdb_score               318\n",
       "dtype: int64"
      ]
     },
     "execution_count": 6,
     "metadata": {},
     "output_type": "execute_result"
    }
   ],
   "source": [
    "titles.isnull().sum()"
   ]
  },
  {
   "cell_type": "markdown",
   "metadata": {},
   "source": [
    "The NaN values in the variables expressing a rating (review or popularity index) were replaced with a value of 0, thanks to the following function. For the visualization, I did not consider the other NaN values because they were not relevant."
   ]
  },
  {
   "cell_type": "code",
   "execution_count": 7,
   "metadata": {},
   "outputs": [],
   "source": [
    "filling=('imdb_score','tmdb_popularity','tmdb_score')\n",
    "\n",
    "for col_ in filling:\n",
    "    titles[col_].fillna(0.0, inplace=True)"
   ]
  },
  {
   "cell_type": "markdown",
   "metadata": {},
   "source": [
    "Then, I decided to proceed by separating the films from the TV series. I then performed a data visualisation to compare films and TV series, in order to better understand their distribution in the Netflix catalogue."
   ]
  },
  {
   "cell_type": "code",
   "execution_count": 8,
   "metadata": {},
   "outputs": [],
   "source": [
    "films=titles[titles['type']=='MOVIE']"
   ]
  },
  {
   "cell_type": "code",
   "execution_count": 9,
   "metadata": {},
   "outputs": [],
   "source": [
    "films=films.drop('seasons',axis=1)"
   ]
  },
  {
   "cell_type": "code",
   "execution_count": 10,
   "metadata": {},
   "outputs": [],
   "source": [
    "films=films.sort_values(['release_year', 'imdb_score'], ascending=False)"
   ]
  },
  {
   "cell_type": "code",
   "execution_count": 11,
   "metadata": {},
   "outputs": [
    {
     "data": {
      "text/html": [
       "<div>\n",
       "<style scoped>\n",
       "    .dataframe tbody tr th:only-of-type {\n",
       "        vertical-align: middle;\n",
       "    }\n",
       "\n",
       "    .dataframe tbody tr th {\n",
       "        vertical-align: top;\n",
       "    }\n",
       "\n",
       "    .dataframe thead th {\n",
       "        text-align: right;\n",
       "    }\n",
       "</style>\n",
       "<table border=\"1\" class=\"dataframe\">\n",
       "  <thead>\n",
       "    <tr style=\"text-align: right;\">\n",
       "      <th></th>\n",
       "      <th>id</th>\n",
       "      <th>title</th>\n",
       "      <th>type</th>\n",
       "      <th>description</th>\n",
       "      <th>release_year</th>\n",
       "      <th>age_certification</th>\n",
       "      <th>runtime</th>\n",
       "      <th>genres</th>\n",
       "      <th>production_countries</th>\n",
       "      <th>imdb_id</th>\n",
       "      <th>imdb_score</th>\n",
       "      <th>imdb_votes</th>\n",
       "      <th>tmdb_popularity</th>\n",
       "      <th>tmdb_score</th>\n",
       "    </tr>\n",
       "  </thead>\n",
       "  <tbody>\n",
       "    <tr>\n",
       "      <th>5111</th>\n",
       "      <td>tm1025493</td>\n",
       "      <td>Dasvi</td>\n",
       "      <td>MOVIE</td>\n",
       "      <td>Jailed under a tough cop, an uneducated politi...</td>\n",
       "      <td>2022</td>\n",
       "      <td>NaN</td>\n",
       "      <td>125</td>\n",
       "      <td>drama</td>\n",
       "      <td>IN</td>\n",
       "      <td>tt14107554</td>\n",
       "      <td>8.0</td>\n",
       "      <td>13140.0</td>\n",
       "      <td>8.133</td>\n",
       "      <td>5.7</td>\n",
       "    </tr>\n",
       "    <tr>\n",
       "      <th>5346</th>\n",
       "      <td>tm1171107</td>\n",
       "      <td>Surviving Paradise: A Family Tale</td>\n",
       "      <td>MOVIE</td>\n",
       "      <td>As the Kalahari Desert faces a worsening dry s...</td>\n",
       "      <td>2022</td>\n",
       "      <td>NaN</td>\n",
       "      <td>78</td>\n",
       "      <td>documentation</td>\n",
       "      <td>GB</td>\n",
       "      <td>tt18059108</td>\n",
       "      <td>7.5</td>\n",
       "      <td>551.0</td>\n",
       "      <td>75.026</td>\n",
       "      <td>6.4</td>\n",
       "    </tr>\n",
       "    <tr>\n",
       "      <th>4924</th>\n",
       "      <td>tm1138477</td>\n",
       "      <td>Downfall: The Case Against Boeing</td>\n",
       "      <td>MOVIE</td>\n",
       "      <td>Investigators reveal how Boeing’s alleged prio...</td>\n",
       "      <td>2022</td>\n",
       "      <td>R</td>\n",
       "      <td>89</td>\n",
       "      <td>documentation</td>\n",
       "      <td>US</td>\n",
       "      <td>tt11893274</td>\n",
       "      <td>7.4</td>\n",
       "      <td>9428.0</td>\n",
       "      <td>31.888</td>\n",
       "      <td>7.2</td>\n",
       "    </tr>\n",
       "    <tr>\n",
       "      <th>4857</th>\n",
       "      <td>tm852172</td>\n",
       "      <td>Apollo 10½:  A Space Age Childhood</td>\n",
       "      <td>MOVIE</td>\n",
       "      <td>A man narrates stories of his life as a 10-yea...</td>\n",
       "      <td>2022</td>\n",
       "      <td>PG-13</td>\n",
       "      <td>98</td>\n",
       "      <td>romance</td>\n",
       "      <td>NL</td>\n",
       "      <td>tt7978758</td>\n",
       "      <td>7.3</td>\n",
       "      <td>4932.0</td>\n",
       "      <td>12.340</td>\n",
       "      <td>7.1</td>\n",
       "    </tr>\n",
       "    <tr>\n",
       "      <th>4890</th>\n",
       "      <td>tm1185360</td>\n",
       "      <td>Return to Space</td>\n",
       "      <td>MOVIE</td>\n",
       "      <td>The inspirational rise of SpaceX as well as El...</td>\n",
       "      <td>2022</td>\n",
       "      <td>NaN</td>\n",
       "      <td>128</td>\n",
       "      <td>documentation</td>\n",
       "      <td>US</td>\n",
       "      <td>tt18555320</td>\n",
       "      <td>7.3</td>\n",
       "      <td>3270.0</td>\n",
       "      <td>35.747</td>\n",
       "      <td>6.3</td>\n",
       "    </tr>\n",
       "    <tr>\n",
       "      <th>...</th>\n",
       "      <td>...</td>\n",
       "      <td>...</td>\n",
       "      <td>...</td>\n",
       "      <td>...</td>\n",
       "      <td>...</td>\n",
       "      <td>...</td>\n",
       "      <td>...</td>\n",
       "      <td>...</td>\n",
       "      <td>...</td>\n",
       "      <td>...</td>\n",
       "      <td>...</td>\n",
       "      <td>...</td>\n",
       "      <td>...</td>\n",
       "      <td>...</td>\n",
       "    </tr>\n",
       "    <tr>\n",
       "      <th>16</th>\n",
       "      <td>tm135083</td>\n",
       "      <td>Cairo Station</td>\n",
       "      <td>MOVIE</td>\n",
       "      <td>Qinawi, a physically challenged peddler who ma...</td>\n",
       "      <td>1958</td>\n",
       "      <td>NaN</td>\n",
       "      <td>77</td>\n",
       "      <td>crime</td>\n",
       "      <td>EG</td>\n",
       "      <td>tt0051390</td>\n",
       "      <td>7.5</td>\n",
       "      <td>4385.0</td>\n",
       "      <td>3.556</td>\n",
       "      <td>7.4</td>\n",
       "    </tr>\n",
       "    <tr>\n",
       "      <th>22</th>\n",
       "      <td>tm204541</td>\n",
       "      <td>Dark Waters</td>\n",
       "      <td>MOVIE</td>\n",
       "      <td>Ragab, a poor sailor, returns home to Alexandr...</td>\n",
       "      <td>1956</td>\n",
       "      <td>NaN</td>\n",
       "      <td>120</td>\n",
       "      <td>drama</td>\n",
       "      <td>EG</td>\n",
       "      <td>tt0049761</td>\n",
       "      <td>6.7</td>\n",
       "      <td>590.0</td>\n",
       "      <td>1.044</td>\n",
       "      <td>5.9</td>\n",
       "    </tr>\n",
       "    <tr>\n",
       "      <th>15</th>\n",
       "      <td>tm16479</td>\n",
       "      <td>White Christmas</td>\n",
       "      <td>MOVIE</td>\n",
       "      <td>Two talented song-and-dance men team up after ...</td>\n",
       "      <td>1954</td>\n",
       "      <td>NaN</td>\n",
       "      <td>115</td>\n",
       "      <td>music</td>\n",
       "      <td>US</td>\n",
       "      <td>tt0047673</td>\n",
       "      <td>7.5</td>\n",
       "      <td>42373.0</td>\n",
       "      <td>9.710</td>\n",
       "      <td>7.2</td>\n",
       "    </tr>\n",
       "    <tr>\n",
       "      <th>28</th>\n",
       "      <td>tm19608</td>\n",
       "      <td>The Blazing Sun</td>\n",
       "      <td>MOVIE</td>\n",
       "      <td>A rich landlord floods and destroys a village ...</td>\n",
       "      <td>1954</td>\n",
       "      <td>NaN</td>\n",
       "      <td>100</td>\n",
       "      <td>crime</td>\n",
       "      <td>EG</td>\n",
       "      <td>tt0044429</td>\n",
       "      <td>7.4</td>\n",
       "      <td>1219.0</td>\n",
       "      <td>1.866</td>\n",
       "      <td>7.0</td>\n",
       "    </tr>\n",
       "    <tr>\n",
       "      <th>24</th>\n",
       "      <td>tm102287</td>\n",
       "      <td>Raya and Sakina</td>\n",
       "      <td>MOVIE</td>\n",
       "      <td>Dramatic rendition of a real life crime wave t...</td>\n",
       "      <td>1953</td>\n",
       "      <td>NaN</td>\n",
       "      <td>105</td>\n",
       "      <td>thriller</td>\n",
       "      <td>EG</td>\n",
       "      <td>tt0316472</td>\n",
       "      <td>6.8</td>\n",
       "      <td>231.0</td>\n",
       "      <td>1.826</td>\n",
       "      <td>5.8</td>\n",
       "    </tr>\n",
       "  </tbody>\n",
       "</table>\n",
       "<p>3759 rows × 14 columns</p>\n",
       "</div>"
      ],
      "text/plain": [
       "             id                               title   type  \\\n",
       "5111  tm1025493                               Dasvi  MOVIE   \n",
       "5346  tm1171107   Surviving Paradise: A Family Tale  MOVIE   \n",
       "4924  tm1138477   Downfall: The Case Against Boeing  MOVIE   \n",
       "4857   tm852172  Apollo 10½:  A Space Age Childhood  MOVIE   \n",
       "4890  tm1185360                     Return to Space  MOVIE   \n",
       "...         ...                                 ...    ...   \n",
       "16     tm135083                       Cairo Station  MOVIE   \n",
       "22     tm204541                         Dark Waters  MOVIE   \n",
       "15      tm16479                     White Christmas  MOVIE   \n",
       "28      tm19608                     The Blazing Sun  MOVIE   \n",
       "24     tm102287                     Raya and Sakina  MOVIE   \n",
       "\n",
       "                                            description  release_year  \\\n",
       "5111  Jailed under a tough cop, an uneducated politi...          2022   \n",
       "5346  As the Kalahari Desert faces a worsening dry s...          2022   \n",
       "4924  Investigators reveal how Boeing’s alleged prio...          2022   \n",
       "4857  A man narrates stories of his life as a 10-yea...          2022   \n",
       "4890  The inspirational rise of SpaceX as well as El...          2022   \n",
       "...                                                 ...           ...   \n",
       "16    Qinawi, a physically challenged peddler who ma...          1958   \n",
       "22    Ragab, a poor sailor, returns home to Alexandr...          1956   \n",
       "15    Two talented song-and-dance men team up after ...          1954   \n",
       "28    A rich landlord floods and destroys a village ...          1954   \n",
       "24    Dramatic rendition of a real life crime wave t...          1953   \n",
       "\n",
       "     age_certification  runtime         genres production_countries  \\\n",
       "5111               NaN      125          drama                   IN   \n",
       "5346               NaN       78  documentation                   GB   \n",
       "4924                 R       89  documentation                   US   \n",
       "4857             PG-13       98        romance                   NL   \n",
       "4890               NaN      128  documentation                   US   \n",
       "...                ...      ...            ...                  ...   \n",
       "16                 NaN       77          crime                   EG   \n",
       "22                 NaN      120          drama                   EG   \n",
       "15                 NaN      115          music                   US   \n",
       "28                 NaN      100          crime                   EG   \n",
       "24                 NaN      105       thriller                   EG   \n",
       "\n",
       "         imdb_id  imdb_score  imdb_votes  tmdb_popularity  tmdb_score  \n",
       "5111  tt14107554         8.0     13140.0            8.133         5.7  \n",
       "5346  tt18059108         7.5       551.0           75.026         6.4  \n",
       "4924  tt11893274         7.4      9428.0           31.888         7.2  \n",
       "4857   tt7978758         7.3      4932.0           12.340         7.1  \n",
       "4890  tt18555320         7.3      3270.0           35.747         6.3  \n",
       "...          ...         ...         ...              ...         ...  \n",
       "16     tt0051390         7.5      4385.0            3.556         7.4  \n",
       "22     tt0049761         6.7       590.0            1.044         5.9  \n",
       "15     tt0047673         7.5     42373.0            9.710         7.2  \n",
       "28     tt0044429         7.4      1219.0            1.866         7.0  \n",
       "24     tt0316472         6.8       231.0            1.826         5.8  \n",
       "\n",
       "[3759 rows x 14 columns]"
      ]
     },
     "execution_count": 11,
     "metadata": {},
     "output_type": "execute_result"
    }
   ],
   "source": [
    "films"
   ]
  },
  {
   "cell_type": "code",
   "execution_count": 12,
   "metadata": {},
   "outputs": [
    {
     "data": {
      "text/plain": [
       "id                         0\n",
       "title                      1\n",
       "type                       0\n",
       "description                8\n",
       "release_year               0\n",
       "age_certification       2353\n",
       "runtime                    0\n",
       "genres                    36\n",
       "production_countries     152\n",
       "imdb_id                  308\n",
       "imdb_score                 0\n",
       "imdb_votes               368\n",
       "tmdb_popularity            0\n",
       "tmdb_score                 0\n",
       "dtype: int64"
      ]
     },
     "execution_count": 12,
     "metadata": {},
     "output_type": "execute_result"
    }
   ],
   "source": [
    "films.isnull().sum()"
   ]
  },
  {
   "cell_type": "code",
   "execution_count": 13,
   "metadata": {},
   "outputs": [],
   "source": [
    "tvshow=titles[titles['type']=='SHOW']"
   ]
  },
  {
   "cell_type": "code",
   "execution_count": 14,
   "metadata": {},
   "outputs": [],
   "source": [
    "tvshow=tvshow.sort_values(['release_year', 'imdb_score'], ascending=False)"
   ]
  },
  {
   "cell_type": "code",
   "execution_count": 15,
   "metadata": {},
   "outputs": [
    {
     "data": {
      "text/html": [
       "<div>\n",
       "<style scoped>\n",
       "    .dataframe tbody tr th:only-of-type {\n",
       "        vertical-align: middle;\n",
       "    }\n",
       "\n",
       "    .dataframe tbody tr th {\n",
       "        vertical-align: top;\n",
       "    }\n",
       "\n",
       "    .dataframe thead th {\n",
       "        text-align: right;\n",
       "    }\n",
       "</style>\n",
       "<table border=\"1\" class=\"dataframe\">\n",
       "  <thead>\n",
       "    <tr style=\"text-align: right;\">\n",
       "      <th></th>\n",
       "      <th>id</th>\n",
       "      <th>title</th>\n",
       "      <th>type</th>\n",
       "      <th>description</th>\n",
       "      <th>release_year</th>\n",
       "      <th>age_certification</th>\n",
       "      <th>runtime</th>\n",
       "      <th>genres</th>\n",
       "      <th>production_countries</th>\n",
       "      <th>seasons</th>\n",
       "      <th>imdb_id</th>\n",
       "      <th>imdb_score</th>\n",
       "      <th>imdb_votes</th>\n",
       "      <th>tmdb_popularity</th>\n",
       "      <th>tmdb_score</th>\n",
       "    </tr>\n",
       "  </thead>\n",
       "  <tbody>\n",
       "    <tr>\n",
       "      <th>5059</th>\n",
       "      <td>ts296563</td>\n",
       "      <td>Who Rules The World</td>\n",
       "      <td>SHOW</td>\n",
       "      <td>A legendary wuxia romance that focuses on the ...</td>\n",
       "      <td>2022</td>\n",
       "      <td>TV-PG</td>\n",
       "      <td>44</td>\n",
       "      <td>fantasy</td>\n",
       "      <td>CN</td>\n",
       "      <td>1.0</td>\n",
       "      <td>tt14950036</td>\n",
       "      <td>9.2</td>\n",
       "      <td>81.0</td>\n",
       "      <td>57.401</td>\n",
       "      <td>8.7</td>\n",
       "    </tr>\n",
       "    <tr>\n",
       "      <th>4832</th>\n",
       "      <td>ts217231</td>\n",
       "      <td>Heartstopper</td>\n",
       "      <td>SHOW</td>\n",
       "      <td>Teens Charlie and Nick discover their unlikely...</td>\n",
       "      <td>2022</td>\n",
       "      <td>TV-14</td>\n",
       "      <td>28</td>\n",
       "      <td>romance</td>\n",
       "      <td>GB</td>\n",
       "      <td>1.0</td>\n",
       "      <td>tt10638036</td>\n",
       "      <td>8.9</td>\n",
       "      <td>28978.0</td>\n",
       "      <td>926.362</td>\n",
       "      <td>8.9</td>\n",
       "    </tr>\n",
       "    <tr>\n",
       "      <th>4965</th>\n",
       "      <td>ts302363</td>\n",
       "      <td>Twenty Five Twenty One</td>\n",
       "      <td>SHOW</td>\n",
       "      <td>The dreams of two young people are crushed by ...</td>\n",
       "      <td>2022</td>\n",
       "      <td>TV-14</td>\n",
       "      <td>76</td>\n",
       "      <td>drama</td>\n",
       "      <td>KR</td>\n",
       "      <td>1.0</td>\n",
       "      <td>tt17513352</td>\n",
       "      <td>8.7</td>\n",
       "      <td>4081.0</td>\n",
       "      <td>76.371</td>\n",
       "      <td>8.6</td>\n",
       "    </tr>\n",
       "    <tr>\n",
       "      <th>4938</th>\n",
       "      <td>ts321513</td>\n",
       "      <td>My Liberation Notes</td>\n",
       "      <td>SHOW</td>\n",
       "      <td>Three siblings, exhausted by the monotony of d...</td>\n",
       "      <td>2022</td>\n",
       "      <td>TV-14</td>\n",
       "      <td>62</td>\n",
       "      <td>romance</td>\n",
       "      <td>KR</td>\n",
       "      <td>1.0</td>\n",
       "      <td>tt15146130</td>\n",
       "      <td>8.4</td>\n",
       "      <td>276.0</td>\n",
       "      <td>62.434</td>\n",
       "      <td>8.0</td>\n",
       "    </tr>\n",
       "    <tr>\n",
       "      <th>5573</th>\n",
       "      <td>ts310628</td>\n",
       "      <td>MaveriX</td>\n",
       "      <td>SHOW</td>\n",
       "      <td>Six young motocross riders come together to fo...</td>\n",
       "      <td>2022</td>\n",
       "      <td>NaN</td>\n",
       "      <td>23</td>\n",
       "      <td>family</td>\n",
       "      <td>AU</td>\n",
       "      <td>1.0</td>\n",
       "      <td>tt15373864</td>\n",
       "      <td>8.4</td>\n",
       "      <td>31.0</td>\n",
       "      <td>2.880</td>\n",
       "      <td>0.0</td>\n",
       "    </tr>\n",
       "    <tr>\n",
       "      <th>...</th>\n",
       "      <td>...</td>\n",
       "      <td>...</td>\n",
       "      <td>...</td>\n",
       "      <td>...</td>\n",
       "      <td>...</td>\n",
       "      <td>...</td>\n",
       "      <td>...</td>\n",
       "      <td>...</td>\n",
       "      <td>...</td>\n",
       "      <td>...</td>\n",
       "      <td>...</td>\n",
       "      <td>...</td>\n",
       "      <td>...</td>\n",
       "      <td>...</td>\n",
       "      <td>...</td>\n",
       "    </tr>\n",
       "    <tr>\n",
       "      <th>55</th>\n",
       "      <td>ts22082</td>\n",
       "      <td>Knight Rider</td>\n",
       "      <td>SHOW</td>\n",
       "      <td>Michael Long, an undercover police officer, is...</td>\n",
       "      <td>1982</td>\n",
       "      <td>TV-PG</td>\n",
       "      <td>51</td>\n",
       "      <td>action</td>\n",
       "      <td>US</td>\n",
       "      <td>4.0</td>\n",
       "      <td>tt0083437</td>\n",
       "      <td>6.9</td>\n",
       "      <td>33760.0</td>\n",
       "      <td>44.378</td>\n",
       "      <td>7.5</td>\n",
       "    </tr>\n",
       "    <tr>\n",
       "      <th>67</th>\n",
       "      <td>ts987</td>\n",
       "      <td>Danger Mouse</td>\n",
       "      <td>SHOW</td>\n",
       "      <td>Danger Mouse, the world's greatest secret agen...</td>\n",
       "      <td>1981</td>\n",
       "      <td>TV-Y</td>\n",
       "      <td>15</td>\n",
       "      <td>family</td>\n",
       "      <td>GB</td>\n",
       "      <td>10.0</td>\n",
       "      <td>tt0081848</td>\n",
       "      <td>7.4</td>\n",
       "      <td>3514.0</td>\n",
       "      <td>7.748</td>\n",
       "      <td>7.4</td>\n",
       "    </tr>\n",
       "    <tr>\n",
       "      <th>29</th>\n",
       "      <td>ts45948</td>\n",
       "      <td>Monty Python's Fliegender Zirkus</td>\n",
       "      <td>SHOW</td>\n",
       "      <td>Monty Python's Fliegender Zirkus consisted of ...</td>\n",
       "      <td>1972</td>\n",
       "      <td>TV-MA</td>\n",
       "      <td>43</td>\n",
       "      <td>comedy</td>\n",
       "      <td>NaN</td>\n",
       "      <td>1.0</td>\n",
       "      <td>tt0202477</td>\n",
       "      <td>8.1</td>\n",
       "      <td>2144.0</td>\n",
       "      <td>1.490</td>\n",
       "      <td>7.0</td>\n",
       "    </tr>\n",
       "    <tr>\n",
       "      <th>5</th>\n",
       "      <td>ts22164</td>\n",
       "      <td>Monty Python's Flying Circus</td>\n",
       "      <td>SHOW</td>\n",
       "      <td>A British sketch comedy series with the shows ...</td>\n",
       "      <td>1969</td>\n",
       "      <td>TV-14</td>\n",
       "      <td>30</td>\n",
       "      <td>european</td>\n",
       "      <td>GB</td>\n",
       "      <td>4.0</td>\n",
       "      <td>tt0063929</td>\n",
       "      <td>8.8</td>\n",
       "      <td>72895.0</td>\n",
       "      <td>12.919</td>\n",
       "      <td>8.3</td>\n",
       "    </tr>\n",
       "    <tr>\n",
       "      <th>0</th>\n",
       "      <td>ts300399</td>\n",
       "      <td>Five Came Back: The Reference Films</td>\n",
       "      <td>SHOW</td>\n",
       "      <td>This collection includes 12 World War II-era p...</td>\n",
       "      <td>1945</td>\n",
       "      <td>TV-MA</td>\n",
       "      <td>48</td>\n",
       "      <td>documentation</td>\n",
       "      <td>US</td>\n",
       "      <td>1.0</td>\n",
       "      <td>NaN</td>\n",
       "      <td>0.0</td>\n",
       "      <td>NaN</td>\n",
       "      <td>0.600</td>\n",
       "      <td>0.0</td>\n",
       "    </tr>\n",
       "  </tbody>\n",
       "</table>\n",
       "<p>2047 rows × 15 columns</p>\n",
       "</div>"
      ],
      "text/plain": [
       "            id                                title  type  \\\n",
       "5059  ts296563                  Who Rules The World  SHOW   \n",
       "4832  ts217231                         Heartstopper  SHOW   \n",
       "4965  ts302363               Twenty Five Twenty One  SHOW   \n",
       "4938  ts321513                  My Liberation Notes  SHOW   \n",
       "5573  ts310628                              MaveriX  SHOW   \n",
       "...        ...                                  ...   ...   \n",
       "55     ts22082                         Knight Rider  SHOW   \n",
       "67       ts987                         Danger Mouse  SHOW   \n",
       "29     ts45948     Monty Python's Fliegender Zirkus  SHOW   \n",
       "5      ts22164         Monty Python's Flying Circus  SHOW   \n",
       "0     ts300399  Five Came Back: The Reference Films  SHOW   \n",
       "\n",
       "                                            description  release_year  \\\n",
       "5059  A legendary wuxia romance that focuses on the ...          2022   \n",
       "4832  Teens Charlie and Nick discover their unlikely...          2022   \n",
       "4965  The dreams of two young people are crushed by ...          2022   \n",
       "4938  Three siblings, exhausted by the monotony of d...          2022   \n",
       "5573  Six young motocross riders come together to fo...          2022   \n",
       "...                                                 ...           ...   \n",
       "55    Michael Long, an undercover police officer, is...          1982   \n",
       "67    Danger Mouse, the world's greatest secret agen...          1981   \n",
       "29    Monty Python's Fliegender Zirkus consisted of ...          1972   \n",
       "5     A British sketch comedy series with the shows ...          1969   \n",
       "0     This collection includes 12 World War II-era p...          1945   \n",
       "\n",
       "     age_certification  runtime         genres production_countries  seasons  \\\n",
       "5059             TV-PG       44        fantasy                   CN      1.0   \n",
       "4832             TV-14       28        romance                   GB      1.0   \n",
       "4965             TV-14       76          drama                   KR      1.0   \n",
       "4938             TV-14       62        romance                   KR      1.0   \n",
       "5573               NaN       23         family                   AU      1.0   \n",
       "...                ...      ...            ...                  ...      ...   \n",
       "55               TV-PG       51         action                   US      4.0   \n",
       "67                TV-Y       15         family                   GB     10.0   \n",
       "29               TV-MA       43         comedy                  NaN      1.0   \n",
       "5                TV-14       30       european                   GB      4.0   \n",
       "0                TV-MA       48  documentation                   US      1.0   \n",
       "\n",
       "         imdb_id  imdb_score  imdb_votes  tmdb_popularity  tmdb_score  \n",
       "5059  tt14950036         9.2        81.0           57.401         8.7  \n",
       "4832  tt10638036         8.9     28978.0          926.362         8.9  \n",
       "4965  tt17513352         8.7      4081.0           76.371         8.6  \n",
       "4938  tt15146130         8.4       276.0           62.434         8.0  \n",
       "5573  tt15373864         8.4        31.0            2.880         0.0  \n",
       "...          ...         ...         ...              ...         ...  \n",
       "55     tt0083437         6.9     33760.0           44.378         7.5  \n",
       "67     tt0081848         7.4      3514.0            7.748         7.4  \n",
       "29     tt0202477         8.1      2144.0            1.490         7.0  \n",
       "5      tt0063929         8.8     72895.0           12.919         8.3  \n",
       "0            NaN         0.0         NaN            0.600         0.0  \n",
       "\n",
       "[2047 rows x 15 columns]"
      ]
     },
     "execution_count": 15,
     "metadata": {},
     "output_type": "execute_result"
    }
   ],
   "source": [
    "tvshow"
   ]
  },
  {
   "cell_type": "markdown",
   "metadata": {},
   "source": [
    "## Data Visualization"
   ]
  },
  {
   "cell_type": "markdown",
   "metadata": {},
   "source": [
    "From here, the data visualization begins."
   ]
  },
  {
   "cell_type": "code",
   "execution_count": 16,
   "metadata": {},
   "outputs": [
    {
     "name": "stdout",
     "output_type": "stream",
     "text": [
      "<class 'pandas.core.frame.DataFrame'>\n",
      "Int64Index: 3759 entries, 5111 to 24\n",
      "Data columns (total 14 columns):\n",
      " #   Column                Non-Null Count  Dtype  \n",
      "---  ------                --------------  -----  \n",
      " 0   id                    3759 non-null   object \n",
      " 1   title                 3758 non-null   object \n",
      " 2   type                  3759 non-null   object \n",
      " 3   description           3751 non-null   object \n",
      " 4   release_year          3759 non-null   int64  \n",
      " 5   age_certification     1406 non-null   object \n",
      " 6   runtime               3759 non-null   int64  \n",
      " 7   genres                3723 non-null   object \n",
      " 8   production_countries  3607 non-null   object \n",
      " 9   imdb_id               3451 non-null   object \n",
      " 10  imdb_score            3759 non-null   float64\n",
      " 11  imdb_votes            3391 non-null   float64\n",
      " 12  tmdb_popularity       3759 non-null   float64\n",
      " 13  tmdb_score            3759 non-null   float64\n",
      "dtypes: float64(4), int64(2), object(8)\n",
      "memory usage: 440.5+ KB\n"
     ]
    }
   ],
   "source": [
    "films.info()"
   ]
  },
  {
   "cell_type": "markdown",
   "metadata": {},
   "source": [
    "Firstly, I decided to visualize the distribution of films and tv shows over the year:"
   ]
  },
  {
   "cell_type": "code",
   "execution_count": 17,
   "metadata": {},
   "outputs": [
    {
     "data": {
      "text/plain": [
       "Text(0.5, 1.0, 'Tv-shows distribution')"
      ]
     },
     "execution_count": 17,
     "metadata": {},
     "output_type": "execute_result"
    },
    {
     "data": {
      "image/png": "[encoded data removed]",
      "text/plain": [
       "<Figure size 1440x720 with 2 Axes>"
      ]
     },
     "metadata": {
      "needs_background": "light"
     },
     "output_type": "display_data"
    }
   ],
   "source": [
    "f2 = plt.figure(figsize=(60,30),constrained_layout=False)\n",
    "gs = f2.add_gridspec(2, 2)\n",
    "f2.suptitle(\"Distribution of films and tv shows over the years\",fontsize=25)\n",
    "f2_ax1 = f2.add_subplot(gs[0,0])\n",
    "films[\"release_year\"].hist(figsize=(20, 10));\n",
    "plt.title('Films distribution',fontsize=15)\n",
    "\n",
    "gs = f2.add_gridspec(2, 2)\n",
    "f2_ax2 = f2.add_subplot(gs[0,1])\n",
    "tvshow[\"release_year\"].hist(figsize=(20, 10));\n",
    "plt.title('Tv-shows distribution',fontsize=15)\n"
   ]
  },
  {
   "cell_type": "markdown",
   "metadata": {},
   "source": [
    "Histograms showed that there was a big increase of shows and films from 10s to 20s. This is an expected result because it corresponds to <b> the rise</b> of Netflix.\n",
    "\n",
    "\n",
    "Always thanks to histograms, I was able to visualise the most common age certification on Netflix."
   ]
  },
  {
   "cell_type": "code",
   "execution_count": 18,
   "metadata": {},
   "outputs": [
    {
     "data": {
      "text/plain": [
       "Text(0.5, 1.0, 'Tv-shows age certification')"
      ]
     },
     "execution_count": 18,
     "metadata": {},
     "output_type": "execute_result"
    },
    {
     "data": {
      "image/png": "[encoded data removed]",
      "text/plain": [
       "<Figure size 1440x720 with 2 Axes>"
      ]
     },
     "metadata": {
      "needs_background": "light"
     },
     "output_type": "display_data"
    }
   ],
   "source": [
    "f2 = plt.figure(figsize=(60,30),constrained_layout=False)\n",
    "gs = f2.add_gridspec(2, 2)\n",
    "f2.suptitle(\"Most common age certification\",fontsize=25)\n",
    "f2_ax1 = f2.add_subplot(gs[0,0])\n",
    "films[\"age_certification\"].hist(figsize=(20, 10));\n",
    "plt.title('Films age certification ',fontsize=15)\n",
    "\n",
    "gs = f2.add_gridspec(2, 2)\n",
    "f2_ax2 = f2.add_subplot(gs[0,1])\n",
    "tvshow[\"age_certification\"].hist(figsize=(20, 10));\n",
    "plt.title('Tv-shows age certification',fontsize=15)"
   ]
  },
  {
   "cell_type": "markdown",
   "metadata": {},
   "source": [
    "Histograms showed that:\n",
    "- most films have an R rating;\n",
    "- most tv shows have a TV-MA rating (more than 17 y.o.)"
   ]
  },
  {
   "cell_type": "markdown",
   "metadata": {},
   "source": [
    "Thanks to the pie chart, we can know what are the most popular types (movies or shows)"
   ]
  },
  {
   "cell_type": "code",
   "execution_count": 26,
   "metadata": {},
   "outputs": [
    {
     "data": {
      "text/plain": [
       "<AxesSubplot:title={'center':'The most popular type'}, ylabel='tmdb_popularity'>"
      ]
     },
     "execution_count": 26,
     "metadata": {},
     "output_type": "execute_result"
    },
    {
     "data": {
      "image/png": "[encoded data removed]",
      "text/plain": [
       "<Figure size 432x432 with 1 Axes>"
      ]
     },
     "metadata": {},
     "output_type": "display_data"
    }
   ],
   "source": [
    "# What are the most popular types?\n",
    "titles.groupby(['type']).sum().plot(kind='pie', y='tmdb_popularity', \n",
    "                                                 title='The most popular type', colors=['brown', 'lightblue'], autopct='%1.0f%%', \n",
    "                                     explode=[0.05]*2,figsize=(6,6))"
   ]
  },
  {
   "cell_type": "markdown",
   "metadata": {},
   "source": [
    "In conclusion, barplot was helpful to answer to the question: *what is the most popular genres?*"
   ]
  },
  {
   "cell_type": "code",
   "execution_count": 24,
   "metadata": {},
   "outputs": [
    {
     "data": {
      "text/plain": [
       "Text(0, 0.5, 'Tv-shows')"
      ]
     },
     "execution_count": 24,
     "metadata": {},
     "output_type": "execute_result"
    },
    {
     "data": {
      "image/png": "[encoded data removed]",
      "text/plain": [
       "<Figure size 1800x1080 with 2 Axes>"
      ]
     },
     "metadata": {
      "needs_background": "light"
     },
     "output_type": "display_data"
    }
   ],
   "source": [
    "f4 = plt.figure(figsize=(25,15),constrained_layout=False)\n",
    "gs = f4.add_gridspec(2, 2)\n",
    "f4.suptitle(\"Countplot of films and tv shows genres\",fontsize=25)\n",
    "f4_ax1 = f4.add_subplot(gs[0,0])\n",
    "df_plt1 = films.groupby('genres').size().to_frame('Count')\n",
    "g = sns.barplot(x = df_plt1.index, y = 'Count', data = df_plt1,palette='Paired_r')\n",
    "g.set(title='Count plot of films by their genres')\n",
    "g.set_xticklabels(g.get_xticklabels(), rotation=90, horizontalalignment='right')\n",
    "g.set_ylabel('Films')\n",
    "\n",
    "gs = f4.add_gridspec(2, 2)\n",
    "f4_ax2 = f4.add_subplot(gs[0,1])\n",
    "df_plt2 = tvshow.groupby('genres').size().to_frame('Count')\n",
    "g = sns.barplot(x = df_plt2.index, y = 'Count', data = df_plt2,palette= 'Accent')\n",
    "g.set(title='Count plot of tv shows by their genres')\n",
    "g.set_xticklabels(g.get_xticklabels(), rotation=90, horizontalalignment='right')\n",
    "g.set_ylabel('Tv-shows')"
   ]
  },
  {
   "cell_type": "markdown",
   "metadata": {},
   "source": [
    "- movies most popular genres are: comedy, drama and documentation.\n",
    "- shows most popular genres are: drama, comedy and documentation."
   ]
  },
  {
   "cell_type": "code",
   "execution_count": 38,
   "metadata": {},
   "outputs": [
    {
     "data": {
      "image/png": "[encoded data removed]",
      "text/plain": [
       "<Figure size 972x576 with 1 Axes>"
      ]
     },
     "metadata": {
      "needs_background": "light"
     },
     "output_type": "display_data"
    }
   ],
   "source": [
    "plt.figure(figsize=(13.5,8))\n",
    "_=sns.histplot(data = films, x = \"runtime\",kde=True)"
   ]
  },
  {
   "cell_type": "code",
   "execution_count": 39,
   "metadata": {},
   "outputs": [
    {
     "data": {
      "image/png": "[encoded data removed]",
      "text/plain": [
       "<Figure size 972x576 with 1 Axes>"
      ]
     },
     "metadata": {
      "needs_background": "light"
     },
     "output_type": "display_data"
    }
   ],
   "source": [
    "plt.figure(figsize=(13.5,8))\n",
    "_=sns.histplot(data = tvshow, x = \"runtime\",kde=True)"
   ]
  },
  {
   "cell_type": "code",
   "execution_count": null,
   "metadata": {},
   "outputs": [],
   "source": []
  }
 ],
 "metadata": {
  "kernelspec": {
   "display_name": "Python 3",
   "language": "python",
   "name": "python3"
  },
  "language_info": {
   "codemirror_mode": {
    "name": "ipython",
    "version": 3
   },
   "file_extension": ".py",
   "mimetype": "text/x-python",
   "name": "python",
   "nbconvert_exporter": "python",
   "pygments_lexer": "ipython3",
   "version": "3.8.5"
  }
 },
 "nbformat": 4,
 "nbformat_minor": 4
}
